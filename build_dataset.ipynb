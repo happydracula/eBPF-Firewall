{
 "cells": [
  {
   "cell_type": "code",
   "execution_count": 2,
   "metadata": {},
   "outputs": [],
   "source": [
    "import os\n",
    "import pandas as pd\n",
    "import numpy as np\n",
    "import tensorflow as tf"
   ]
  },
  {
   "cell_type": "code",
   "execution_count": 34,
   "metadata": {},
   "outputs": [
    {
     "data": {
      "text/plain": [
       "(768,)"
      ]
     },
     "execution_count": 34,
     "metadata": {},
     "output_type": "execute_result"
    }
   ],
   "source": [
    "def encodeIP(ip_addr,N):\n",
    "    X=ip_addr.split('.')\n",
    "    encoding=[0 for i in range(256*N)]\n",
    "    for i in range(1,N+1,1):\n",
    "        k=256*(i-1)+int(X[i-1])\n",
    "        #print(k)\n",
    "        encoding[k]=1\n",
    "    return encoding\n",
    "np.shape(encodeIP('198.51.100.88',3))"
   ]
  },
  {
   "cell_type": "code",
   "execution_count": 35,
   "metadata": {},
   "outputs": [],
   "source": [
    "def get_from_file(filepath):\n",
    "    f = open(filepath, \"r\")\n",
    "    ip_list=f.read().split('\\n')[:-1]\n",
    "    ip_encodings=[]\n",
    "    ip_labels=[]\n",
    "    idx=int(filepath[-5])\n",
    "    for ipaddr in ip_list:\n",
    "        ip_encodings.append(encodeIP(ipaddr,3))\n",
    "        ip_labels.append(idx)\n",
    "    return {\"X\":ip_encodings,\"Y\":ip_labels}\n",
    "data=get_from_file('./ipsum/levels/8.txt')"
   ]
  },
  {
   "cell_type": "code",
   "execution_count": 36,
   "metadata": {},
   "outputs": [
    {
     "data": {
      "text/plain": [
       "(14, 768)"
      ]
     },
     "execution_count": 36,
     "metadata": {},
     "output_type": "execute_result"
    }
   ],
   "source": [
    "np.shape(data['X'])"
   ]
  },
  {
   "cell_type": "code",
   "execution_count": 38,
   "metadata": {},
   "outputs": [],
   "source": [
    "def get_from_folder(path):\n",
    "    X=[]\n",
    "    Y=[]\n",
    "    for fl in os.listdir(path):\n",
    "        data=get_from_file(os.path.join(path,fl))\n",
    "        for encoding in data['X']:\n",
    "            X.append(encoding)\n",
    "        for label in data['Y']:\n",
    "            Y.append(label)\n",
    "    return {\"X\":X,\"Y\":Y}\n",
    "data=get_from_folder('./ipsum/levels/')"
   ]
  },
  {
   "cell_type": "code",
   "execution_count": 41,
   "metadata": {},
   "outputs": [
    {
     "name": "stdout",
     "output_type": "stream",
     "text": [
      "(291103, 768)\n",
      "(291103,)\n"
     ]
    }
   ],
   "source": [
    "print(np.shape(data['X']))\n",
    "print(np.shape(data['Y']))\n"
   ]
  },
  {
   "cell_type": "code",
   "execution_count": 43,
   "metadata": {},
   "outputs": [],
   "source": [
    "ip_encodings=np.array(data['X'])"
   ]
  },
  {
   "cell_type": "code",
   "execution_count": 46,
   "metadata": {},
   "outputs": [],
   "source": [
    "ip_labels=np.array(data['Y'])"
   ]
  },
  {
   "cell_type": "code",
   "execution_count": 47,
   "metadata": {},
   "outputs": [],
   "source": [
    "model = tf.keras.Sequential([\n",
    "   \n",
    "    tf.keras.layers.Dense(128, activation='relu'),\n",
    "    tf.keras.layers.Dense(10)\n",
    "])\n",
    "\n",
    "model.compile(optimizer='adam',\n",
    "              loss=tf.keras.losses.SparseCategoricalCrossentropy(from_logits=True),\n",
    "              metrics=['accuracy'])"
   ]
  },
  {
   "cell_type": "code",
   "execution_count": 49,
   "metadata": {},
   "outputs": [
    {
     "name": "stdout",
     "output_type": "stream",
     "text": [
      "Epoch 1/10\n",
      "9097/9097 [==============================] - 26s 3ms/step - loss: 0.6331 - accuracy: 0.8222\n",
      "Epoch 2/10\n",
      "9097/9097 [==============================] - 24s 3ms/step - loss: 0.5903 - accuracy: 0.8219\n",
      "Epoch 3/10\n",
      "9097/9097 [==============================] - 24s 3ms/step - loss: 0.5665 - accuracy: 0.8211\n",
      "Epoch 4/10\n",
      "9097/9097 [==============================] - 40s 4ms/step - loss: 0.5498 - accuracy: 0.8205\n",
      "Epoch 5/10\n",
      "9097/9097 [==============================] - 48s 5ms/step - loss: 0.5381 - accuracy: 0.8198\n",
      "Epoch 6/10\n",
      "9097/9097 [==============================] - 47s 5ms/step - loss: 0.5288 - accuracy: 0.8194\n",
      "Epoch 7/10\n",
      "9097/9097 [==============================] - 42s 5ms/step - loss: 0.5203 - accuracy: 0.8192\n",
      "Epoch 8/10\n",
      "9097/9097 [==============================] - 48s 5ms/step - loss: 0.5137 - accuracy: 0.8186\n",
      "Epoch 9/10\n",
      "9097/9097 [==============================] - 49s 5ms/step - loss: 0.5076 - accuracy: 0.8180\n",
      "Epoch 10/10\n",
      "9097/9097 [==============================] - 48s 5ms/step - loss: 0.5025 - accuracy: 0.8178\n"
     ]
    },
    {
     "data": {
      "text/plain": [
       "<keras.callbacks.History at 0x147b7203cd0>"
      ]
     },
     "execution_count": 49,
     "metadata": {},
     "output_type": "execute_result"
    }
   ],
   "source": [
    "model.fit(ip_encodings, ip_labels, epochs=10)\n"
   ]
  },
  {
   "cell_type": "code",
   "execution_count": 50,
   "metadata": {},
   "outputs": [
    {
     "name": "stdout",
     "output_type": "stream",
     "text": [
      "9097/9097 [==============================] - 31s 3ms/step - loss: 0.4804 - accuracy: 0.8212\n"
     ]
    },
    {
     "data": {
      "text/plain": [
       "[0.4804422855377197, 0.8212248086929321]"
      ]
     },
     "execution_count": 50,
     "metadata": {},
     "output_type": "execute_result"
    }
   ],
   "source": [
    "model.evaluate(ip_encodings,ip_labels)"
   ]
  },
  {
   "cell_type": "code",
   "execution_count": null,
   "metadata": {},
   "outputs": [],
   "source": []
  }
 ],
 "metadata": {
  "kernelspec": {
   "display_name": "base",
   "language": "python",
   "name": "python3"
  },
  "language_info": {
   "codemirror_mode": {
    "name": "ipython",
    "version": 3
   },
   "file_extension": ".py",
   "mimetype": "text/x-python",
   "name": "python",
   "nbconvert_exporter": "python",
   "pygments_lexer": "ipython3",
   "version": "3.10.9"
  },
  "orig_nbformat": 4
 },
 "nbformat": 4,
 "nbformat_minor": 2
}
